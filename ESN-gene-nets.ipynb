{
 "cells": [
  {
   "cell_type": "code",
   "execution_count": 1,
   "metadata": {
    "collapsed": true
   },
   "outputs": [],
   "source": [
    "import networkx as nx\n",
    "import numpy as np\n",
    "import random as rand\n",
    "import scipy\n",
    "from matplotlib.pyplot import *\n",
    "from sklearn.metrics import mean_squared_error\n",
    "from sklearn.metrics import mutual_info_score\n",
    "from sklearn.metrics import normalized_mutual_info_score\n",
    "import os\n",
    "from math import sqrt\n",
    "from math import sin\n",
    "import json\n",
    "from statistics import mean\n",
    "import entropy_estimators as ee\n",
    "import scipy.spatial as ss\n",
    "from scipy.special import digamma,gamma\n",
    "from math import log,pi\n",
    "import numpy.random as nr\n",
    "\n"
   ]
  },
  {
   "cell_type": "code",
   "execution_count": 2,
   "metadata": {
    "collapsed": true
   },
   "outputs": [],
   "source": [
    "#networkx 1.10\n",
    "def get_cyclic_net_v1(filename):\n",
    "    G=nx.read_edgelist(filename, comments='#', delimiter=\"\\t\", nodetype =str,  data=(('mode',str),), create_using=nx.DiGraph())\n",
    "    G.remove_nodes_from([\"Source\", \"Target\"])\n",
    "    selfloops=G.selfloop_edges()\n",
    "    G.remove_edges_from(G.selfloop_edges())\n",
    "    \n",
    "    \n",
    "    while 0 in G.in_degree().values() or 0 in G.out_degree().values():\n",
    "        nodes_to_remove=[node for node in G if G.in_degree(node) == 0 or G.out_degree(node) == 0]\n",
    "        G.remove_nodes_from(nodes_to_remove)\n",
    "        \n",
    "    selfloops_in_reservoir=[edge for edge in selfloops if edge[0] in G.nodes()]\n",
    "    G.add_edges_from(selfloops_in_reservoir)\n",
    "    return G\n",
    "    "
   ]
  },
  {
   "cell_type": "code",
   "execution_count": 3,
   "metadata": {
    "collapsed": true
   },
   "outputs": [],
   "source": [
    "#networkx 2.1\n",
    "def get_cyclic_net(filename):\n",
    "    G=nx.read_edgelist(filename, comments='#', delimiter=\"\\t\", nodetype =str,  data=(('mode',str),), create_using=nx.DiGraph())\n",
    "    G.remove_nodes_from([\"Source\", \"Target\"])\n",
    "    selfloops=G.selfloop_edges()\n",
    "    G.remove_edges_from(G.selfloop_edges())\n",
    "\n",
    "    while 0 in [d[1] for d in G.in_degree()] or 0 in [d[1] for d in G.out_degree()]:\n",
    "        nodes_to_remove=[node for node in G if G.in_degree(node) == 0 or G.out_degree(node) == 0]\n",
    "        G.remove_nodes_from(nodes_to_remove)\n",
    "        \n",
    "    selfloops_in_reservoir=[edge for edge in selfloops if edge[0] in G.nodes()]\n",
    "    G.add_edges_from(selfloops_in_reservoir)\n",
    "    return G"
   ]
  },
  {
   "cell_type": "code",
   "execution_count": null,
   "metadata": {
    "collapsed": true
   },
   "outputs": [],
   "source": [
    "class ESN(object):\n",
    "    def __init__(self, filename, in_size, out_size, spectral_radius):\n",
    "        self.res_size= self.build_adj_weighted_matrix(filename).shape[0]\n",
    "        self.in_size=in_size\n",
    "        self.out_size=out_size\n",
    "        self.spectral_radius= spectral_radius\n",
    "        self.W0=self.build_adj_weighted_matrix(filename)\n",
    "        self.W=None\n",
    "        self.Win=None\n",
    "        self.Wout=None\n",
    "        self.X=None\n",
    "        self.Y=None\n",
    "        self.x=np.zeros((self.res_size,1))\n",
    "        self.x0=np.insert(np.random.rand(self.res_size)*10,0,[1.0,1.0,1.0])\n",
    "        self.decay=np.random.rand(self.res_size,1)*10\n",
    "        self.u=None\n",
    "        self.x_act=None\n",
    "\n",
    "    \n",
    "    def build_adj_weighted_matrix(self, filename):\n",
    "        #NETWORK v2.0\n",
    "        net=get_cyclic_net(filename)\n",
    "        for edge in net.edges(data=\"mode\", default=0):\n",
    "            source,target,mode=edge\n",
    "            if mode== \"+\":\n",
    "                net[source][target][\"weight\"]= rand.uniform(0,1)\n",
    "            elif mode== \"-\":\n",
    "                net[source][target][\"weight\"]= rand.uniform(0,-1)\n",
    "            elif mode== 0:\n",
    "                net[source][target][\"weight\"]= rand.uniform(-1,1)\n",
    "        return nx.to_numpy_matrix(net)\n",
    "    \n",
    "    def initialize(self): \n",
    "        np.random.seed(42)\n",
    "        self.Win=np.random.choice([-0.05,0.05], size=(self.res_size,1+self.in_size))\n",
    "        self.W0 = np.squeeze(np.asarray(self.W0))\n",
    "        rhoW0 = max(abs(scipy.linalg.eig(self.W0)[0]))\n",
    "        self.W= (self.spectral_radius/rhoW0)*self.W0\n",
    "        \n",
    "\n",
    "    def collect_states(self, data, init_len, train_len, a=0.3):\n",
    "        self.X=np.zeros((self.res_size+self.in_size+1, train_len-init_len))\n",
    "        for t in range(train_len):\n",
    "            u = data[t]\n",
    "            self.x = (1-a)*self.x + a*np.tanh( np.dot( self.Win, np.vstack((1,u)) ) + np.dot( self.W, self.x ) ) \n",
    "            if t >= init_len:\n",
    "                self.X[:,t-init_len]= np.vstack((1,u,self.x))[:,0]\n",
    "        \n",
    "        return self.X\n",
    "    \n",
    "    \n",
    "    def collect_states_derivative(self, a,b,c, init_len, train_len, test_len, n=20):\n",
    "        self.X=np.zeros((self.res_size+self.in_size+1, train_len-init_len))\n",
    "        t=np.arange(train_len+test_len)\n",
    "        uyz_x=scipy.integrate.odeint(self.dx_dt,self.x0,t,args=(a,b,c,self.decay))\n",
    "        self.u=uyz_x[:,0]\n",
    "        self.x_act=uyz_x[:,3:]\n",
    "        for t in range(init_len-n,train_len-n):\n",
    "            x_concat=self.x_act[t,:].reshape(self.x_act[t,:].shape[0],1)\n",
    "            u_concat=self.u[t]\n",
    "            self.X[:,t-init_len+n]= np.vstack((1,u_concat,x_concat))[:,0]\n",
    "               \n",
    "        return self.X\n",
    "    \n",
    "    def dx_dt(self, uyz_x,t,a,b,c,decay):\n",
    "        u=uyz_x[0]\n",
    "        y=uyz_x[1]\n",
    "        z=uyz_x[2]\n",
    "        x=np.array(uyz_x[3:]).reshape(self.res_size,1)\n",
    "       \n",
    "        du_dt=-z-y\n",
    "        dy_dt=u+a*y\n",
    "        dz_dt=b+z*(u-c)\n",
    "        x= np.tanh( np.dot( self.Win, np.vstack((1,u)) ) + np.dot( self.W, x ) ) - np.multiply(decay,x)\n",
    "        \n",
    "        return np.insert(x,0,[du_dt,dy_dt,dz_dt])\n",
    "        \n",
    "    def calculate_weights(self, data, init_len, train_len,beta=1e-8 ):\n",
    "        Y=data[None,init_len+1:train_len+1]\n",
    "        X_T=self.X.T\n",
    "        self.Wout= np.dot ( np.dot(Y, X_T), np.linalg.inv(np.dot(self.X,X_T) + beta * np.eye(self.res_size+self.in_size+1)))\n",
    "        return self.Wout\n",
    "    \n",
    "    def calculate_weights_derivative(self,init_len, train_len, beta=1e-8 ):\n",
    "        Y=np.array([self.u[init_len+1:train_len+1]])\n",
    "        X_T=self.X.T\n",
    "        self.Wout= np.dot ( np.dot(Y, X_T), np.linalg.inv(np.dot(self.X,X_T) + beta * np.eye(self.res_size+self.in_size+1))) #w= y*x_t*(x*x_t + beta*I)^-1\n",
    "        return self.Wout\n",
    "    \n",
    "    def run_generative(self, data, test_len, train_len,a=0.3):\n",
    "        self.Y = np.zeros((self.out_size,test_len))\n",
    "        u = data[train_len]\n",
    "        for t in range(test_len):\n",
    "            self.x = (1-a)*self.x + a*np.tanh( np.dot( self.Win, np.vstack((1,u)) ) + np.dot( self.W, self.x ) ) \n",
    "            y = np.dot( self.Wout, np.vstack((1,u,self.x)) )\n",
    "            self.Y[:,t] = y\n",
    "            u = data[trainLen+t+1]\n",
    "            #u =y\n",
    "    \n",
    "    def run_predictive_derivative(self, a,b,c, test_len, train_len,n=20):\n",
    "        self.Y = np.zeros((self.out_size,test_len))\n",
    "        \n",
    "        for t in range(train_len,train_len+test_len):\n",
    "            x_concat=self.x_act[t,:].reshape(self.x_act[t,:].shape[0],1)\n",
    "            u_concat=self.u[t]\n",
    "            y = np.dot( self.Wout, np.vstack((1,u_concat,x_concat)) )\n",
    "            self.Y[:,t-train_len] = y\n",
    "           \n",
    "        \n",
    "        return self.Y"
   ]
  },
  {
   "cell_type": "code",
   "execution_count": 5,
   "metadata": {
    "collapsed": true
   },
   "outputs": [],
   "source": [
    "##################################################################################"
   ]
  },
  {
   "cell_type": "code",
   "execution_count": 6,
   "metadata": {
    "collapsed": true
   },
   "outputs": [],
   "source": [
    "#                                   FUNCTIONS                                    #"
   ]
  },
  {
   "cell_type": "code",
   "execution_count": 7,
   "metadata": {
    "collapsed": true
   },
   "outputs": [],
   "source": [
    "#NARMA \n",
    "def NARMA_task(steps, data, init_len, train_len):\n",
    "        Y=np.zeros(train_len)\n",
    "        for t in range(init_len,train_len):\n",
    "            Y[t]=0.3* Y[t-1] + 0.05*Y[t-1]*np.sum(Y[t-1:t-steps])+ 1.5*data[t-steps]*data[t-1]+0.1\n",
    "                \n",
    "        return Y"
   ]
  },
  {
   "cell_type": "code",
   "execution_count": 8,
   "metadata": {
    "collapsed": true
   },
   "outputs": [],
   "source": [
    "def testing_gene_net(directory,input_data,data):\n",
    "    csv_files= [file for file in os.listdir(directory) if file.startswith(\"network_edge_list\")]\n",
    "    print(csv_files)\n",
    "    MI_by_file={}\n",
    "    for file in csv_files:\n",
    "        filename=file[file.index(\"list\")+5:file.index(\".csv\")]\n",
    "        net=ESN(os.path.join(directory, file),1,1,0.95)\n",
    "        net.initialize()\n",
    "        net.collect_states(input_data,initLen,trainLen)\n",
    "        net.calculate_weights(input_data,initLen,trainLen)\n",
    "        net.run_generative(input_data,testLen,trainLen)\n",
    "        MI_by_file[filename]=memory_capacity_n(net.Y, data,100)\n",
    "        nrmse= sqrt(mean_squared_error(data[trainLen+1:trainLen+errorLen+1],net.Y[0,0:errorLen])/np.std(net.Y[0,0:errorLen]))\n",
    "        print(net.res_size, 'NRMSE = ' + str( nrmse ))\n",
    "        print(memory_capacity_n(net.Y, data,20))\n",
    "        \n",
    "    return MI_by_file\n",
    "        #plot( data[trainLen+1:trainLen+testLen+1], 'g' )\n",
    "        #plot( net.Y.T, 'b' )\n",
    "        #title('Target and generated signals $y(n)$ starting at $n=0$')\n",
    "        #legend(['Target signal', 'Free-running predicted signal'])\n",
    "        #show()\n",
    "      \n"
   ]
  },
  {
   "cell_type": "code",
   "execution_count": 89,
   "metadata": {
    "collapsed": true
   },
   "outputs": [],
   "source": [
    "def testing_gene_net_derivative(directory,a,b,c,n=20):\n",
    "    csv_files= [file for file in os.listdir(directory) if file.startswith(\"network_edge_list\")]\n",
    "    Y_by_file={}\n",
    "    X_by_file={}\n",
    "    MI_by_file={}\n",
    "    for file in csv_files:\n",
    "        print(file)\n",
    "        filename=file[file.index(\"list\")+5:file.index(\".csv\")]\n",
    "        net=ESN(os.path.join(directory, file),1,1,0.95)\n",
    "        net.initialize()\n",
    "        net.collect_states_derivative(a,b,c,initLen,trainLen,testLen,n)\n",
    "        net.calculate_weights_derivative(initLen,trainLen,n)\n",
    "        net.run_predictive_derivative(a,b,c,testLen,trainLen)\n",
    "        nrmse= sqrt(mean_squared_error(net.u[trainLen+1:trainLen+errorLen+1],net.Y[0,0:errorLen])/np.std(net.Y[0,0:errorLen]))\n",
    "        print(net.res_size, 'NRMSE = ' + str( nrmse ))\n",
    "        X_by_file[filename]=net.u\n",
    "        Y_by_file[filename]=net.Y\n",
    "        MI_by_file[filename]=memory_capacity_n(net.Y, net.u,n)\n",
    "        print(net.res_size, \" FINISHED\")\n",
    "    return MI_by_file, X_by_file, Y_by_file\n",
    "  \n"
   ]
  },
  {
   "cell_type": "code",
   "execution_count": 10,
   "metadata": {
    "collapsed": true
   },
   "outputs": [],
   "source": [
    "def testing_gene_net_file(directory,file):\n",
    "    print(file)\n",
    "    filename=file[file.index(\"list\")+5:file.index(\".csv\")]\n",
    "    net=ESN(os.path.join(directory, file),1,1,0.95)\n",
    "    net.initialize()\n",
    "    net.collect_states(data,initLen,trainLen)\n",
    "    net.calculate_weights(data,initLen,trainLen)\n",
    "    net.run_generative(data,testLen,trainLen)\n",
    "    nrmse= sqrt(mean_squared_error(data[trainLen+1:trainLen+errorLen+1],net.Y[0,0:errorLen])/np.std(net.Y[0,0:errorLen]))\n",
    "    print(net.res_size, 'NRMSE = ' + str( nrmse ))\n",
    "    return memory_capacity_n(net.Y, data,100)\n",
    "    "
   ]
  },
  {
   "cell_type": "code",
   "execution_count": 11,
   "metadata": {
    "collapsed": true
   },
   "outputs": [],
   "source": [
    "def testing_gene_net_derivative_file(directory,file):\n",
    "    print(file)\n",
    "    filename=file[file.index(\"list\")+5:file.index(\".csv\")]\n",
    "    net=ESN(os.path.join(directory, file),1,1,0.95)\n",
    "    net.initialize()\n",
    "    net.collect_states_derivative(a,b,c,initLen,trainLen,testLen)\n",
    "    net.calculate_weights_derivative(initLen,trainLen)\n",
    "    net.run_predictive_derivative(a,b,c,testLen,trainLen)\n",
    "    #nrmse= sqrt(mean_squared_error(net.u[trainLen+1:trainLen+errorLen+1],net.Y[0,0:errorLen])/np.std(net.Y[0,0:errorLen]))\n",
    "    #print(net.res_size, 'NRMSE = ' + str( nrmse ))\n",
    "    #plot(np.arange(trainLen+testLen+1),net.u)\n",
    "    #show()\n",
    "    return memory_capacity_n(net.Y,net.u,100)"
   ]
  },
  {
   "cell_type": "code",
   "execution_count": 12,
   "metadata": {
    "collapsed": true
   },
   "outputs": [],
   "source": [
    "def entropy(x,k=3,base=2):\n",
    "    \"\"\" The classic K-L k-nearest neighbor continuous entropy estimator\n",
    "         x should be a list of vectors, e.g. x = [[1.3],[3.7],[5.1],[2.4]]\n",
    "        if x is a one-dimensional scalar and we have four samples\n",
    "    \"\"\"\n",
    "    assert k <= len(x)-1 #\"Set k smaller than num. samples - 1\"\n",
    "    d = len(x[0])\n",
    "    N = len(x)\n",
    "    intens = 1e-10 #small noise to break degeneracy, see doc.\n",
    "    x = [list(p + intens*nr.rand(len(x[0]))) for p in x]\n",
    "    tree = ss.cKDTree(x)\n",
    "    nn = [tree.query(point,k+1,p=float('inf'))[0][k] for point in x]\n",
    "    const = digamma(N)-digamma(k) + d*log(2)\n",
    "    return (const + d*np.mean(list(map(log,nn)),dtype=np.float64))/log(base)"
   ]
  },
  {
   "cell_type": "code",
   "execution_count": 13,
   "metadata": {
    "collapsed": true
   },
   "outputs": [],
   "source": [
    "def calc_MI(x, y):\n",
    "    bins=sqrt(x.shape[0]/5)\n",
    "    c_xy = np.histogram2d(x, y, bins)[0]\n",
    "    mi = mutual_info_score(None, None, contingency=c_xy)\n",
    "    #mi = mutual_info_score(x,y)\n",
    "    return mi"
   ]
  },
  {
   "cell_type": "code",
   "execution_count": 14,
   "metadata": {
    "collapsed": true
   },
   "outputs": [],
   "source": [
    "def calc_MI_npeet(x,y):\n",
    "    return ee.mi(x.reshape((x.shape[0],1)), y.reshape((y.shape[0],1)), base=2)/entropy(x.reshape((x.shape[0],1)))"
   ]
  },
  {
   "cell_type": "code",
   "execution_count": 86,
   "metadata": {
    "collapsed": true
   },
   "outputs": [],
   "source": [
    "def memory_capacity_n(Yt, Xt,n):\n",
    "    MI_i={}\n",
    "    if n == 0:\n",
    "        iter_values=range(100+1)\n",
    "    else:\n",
    "        iter_values=range(1,2*n+1)\n",
    "    for i in range(100+1):\n",
    "        MI_i[i]=calc_MI_npeet(Yt[0,300:350],Xt[300-i:350-i]) \n",
    "    \n",
    "    return MI_i"
   ]
  },
  {
   "cell_type": "code",
   "execution_count": 16,
   "metadata": {
    "collapsed": true
   },
   "outputs": [],
   "source": [
    "def plot_MI_i(key,mi_dict):\n",
    "    x=[]\n",
    "    y=[]\n",
    "    for i,MI in mi_dict.items():\n",
    "        x.append(i)\n",
    "        y.append(MI)\n",
    "    plot(x,y, label=key)\n"
   ]
  },
  {
   "cell_type": "code",
   "execution_count": 17,
   "metadata": {
    "collapsed": true
   },
   "outputs": [],
   "source": [
    "def plot_MI_by_file(MI_by_file):\n",
    "    for key in MI_by_file.keys():\n",
    "        plot_MI_i(key, MI_by_file[key])\n",
    "    legend(loc='upper left')\n",
    "    show()\n",
    "    "
   ]
  },
  {
   "cell_type": "code",
   "execution_count": 18,
   "metadata": {
    "collapsed": true
   },
   "outputs": [],
   "source": [
    "##################################################################################"
   ]
  },
  {
   "cell_type": "code",
   "execution_count": 19,
   "metadata": {
    "collapsed": true
   },
   "outputs": [],
   "source": [
    "#                                   TESTEOS                                      #"
   ]
  },
  {
   "cell_type": "code",
   "execution_count": 27,
   "metadata": {},
   "outputs": [
    {
     "data": {
      "text/plain": [
       "486"
      ]
     },
     "execution_count": 27,
     "metadata": {},
     "output_type": "execute_result"
    }
   ],
   "source": [
    "# TESTEO get_cyclic_net\n",
    "G=get_cyclic_net(os.path.join(\"Dataset1/\", \"network_edge_list_modENCODE.csv\"))\n",
    "len(G.nodes())"
   ]
  },
  {
   "cell_type": "code",
   "execution_count": 63,
   "metadata": {},
   "outputs": [],
   "source": [
    "#TESTEO adjacency matrix\n",
    "net=ESN(os.path.join(\"Dataset1/\", \"network_edge_list_DBTBS.csv\"),1,1,0.95)\n",
    "#net.W0"
   ]
  },
  {
   "cell_type": "code",
   "execution_count": 64,
   "metadata": {},
   "outputs": [
    {
     "name": "stdout",
     "output_type": "stream",
     "text": [
      "(13, 13)\n",
      "0.95\n"
     ]
    }
   ],
   "source": [
    "#TESTEO initialize\n",
    "net.initialize()\n",
    "print(net.W.shape)\n",
    "print(max(abs(scipy.linalg.eig(net.W)[0])))"
   ]
  },
  {
   "cell_type": "code",
   "execution_count": null,
   "metadata": {},
   "outputs": [],
   "source": [
    "#TESTEO collect states\n",
    "net.collect_states_derivative(a,b,c, initLen, trainLen, testLen, n=2)\n",
    "net.X.shape\n",
    "net.X[:,7]"
   ]
  },
  {
   "cell_type": "code",
   "execution_count": 56,
   "metadata": {},
   "outputs": [
    {
     "data": {
      "text/plain": [
       "array([ 1.        , -0.61091647,  0.63431023, -0.13709912, -0.21594433,\n",
       "        3.07609838,  0.56499953,  2.08286955,  2.4682787 ,  0.06612533,\n",
       "       -0.05241386,  0.03303408,  0.7706316 ,  3.26836684, -0.02395912])"
      ]
     },
     "execution_count": 56,
     "metadata": {},
     "output_type": "execute_result"
    }
   ],
   "source": []
  },
  {
   "cell_type": "code",
   "execution_count": null,
   "metadata": {
    "collapsed": true
   },
   "outputs": [],
   "source": [
    "##################################################################################"
   ]
  },
  {
   "cell_type": "code",
   "execution_count": null,
   "metadata": {
    "collapsed": true
   },
   "outputs": [],
   "source": [
    "#                             RESULTS                                            #"
   ]
  },
  {
   "cell_type": "code",
   "execution_count": 76,
   "metadata": {
    "collapsed": true
   },
   "outputs": [],
   "source": [
    "# TRAINING AND TEST LENGHT\n",
    "errorLen = 500\n",
    "trainLen=9000\n",
    "testLen=1000\n",
    "initLen=200\n",
    "\n",
    "#Files\n",
    "csv_files=['network_edge_list_ENCODE.csv', 'network_edge_list_modENCODE.csv', 'network_edge_list_YEASTRACT.csv', 'network_edge_list_EcoCyc.csv', 'network_edge_list_DBTBS.csv']\n",
    "\n",
    "#parameters ROSSLER\n",
    "a=0.1\n",
    "b=0.1\n",
    "c=14"
   ]
  },
  {
   "cell_type": "code",
   "execution_count": null,
   "metadata": {
    "collapsed": true
   },
   "outputs": [],
   "source": [
    "#MACKEY GLASS"
   ]
  },
  {
   "cell_type": "code",
   "execution_count": null,
   "metadata": {},
   "outputs": [],
   "source": [
    "print(\"MACKEY GLASS\")\n",
    "data = np.loadtxt('MackeyGlass_t17.txt')\n",
    "MI=testing_gene_net(\"Dataset1/\",data,data)"
   ]
  },
  {
   "cell_type": "code",
   "execution_count": null,
   "metadata": {
    "collapsed": true
   },
   "outputs": [],
   "source": [
    "# NARMA TASK"
   ]
  },
  {
   "cell_type": "code",
   "execution_count": null,
   "metadata": {
    "collapsed": true
   },
   "outputs": [],
   "source": [
    "u_narma= [rand.uniform(0,0.5) for el in range(10501)]\n",
    "NARMA_result= NARMA_task(10,u_narma,initLen,len(data))\n",
    "NARMA_result[2000:4000]\n"
   ]
  },
  {
   "cell_type": "code",
   "execution_count": null,
   "metadata": {
    "collapsed": true
   },
   "outputs": [],
   "source": [
    "print(\"NARMA\")\n",
    "testing_gene_net(\"Dataset1/\",NARMA_result)"
   ]
  },
  {
   "cell_type": "code",
   "execution_count": null,
   "metadata": {
    "collapsed": true
   },
   "outputs": [],
   "source": [
    "# ROSSLER"
   ]
  },
  {
   "cell_type": "code",
   "execution_count": null,
   "metadata": {
    "collapsed": true
   },
   "outputs": [],
   "source": [
    "print(\"With derivatives\")\n",
    "MI_by_file, X_by_file, Y_by_file=testing_gene_net_derivative(\"Dataset1/\", a,b,c)"
   ]
  },
  {
   "cell_type": "code",
   "execution_count": 90,
   "metadata": {},
   "outputs": [
    {
     "name": "stdout",
     "output_type": "stream",
     "text": [
      "network_edge_list_DBTBS.csv\n"
     ]
    },
    {
     "ename": "KeyboardInterrupt",
     "evalue": "",
     "output_type": "error",
     "traceback": [
      "\u001b[0;31m---------------------------------------------------------------------------\u001b[0m",
      "\u001b[0;31mKeyboardInterrupt\u001b[0m                         Traceback (most recent call last)",
      "\u001b[0;32m<ipython-input-90-00787fa992c6>\u001b[0m in \u001b[0;36m<module>\u001b[0;34m()\u001b[0m\n\u001b[1;32m      1\u001b[0m \u001b[0;32mfor\u001b[0m \u001b[0mn\u001b[0m \u001b[0;32min\u001b[0m \u001b[0;34m[\u001b[0m\u001b[0;36m10\u001b[0m\u001b[0;34m,\u001b[0m\u001b[0;36m20\u001b[0m\u001b[0;34m,\u001b[0m\u001b[0;36m50\u001b[0m\u001b[0;34m,\u001b[0m\u001b[0;36m80\u001b[0m\u001b[0;34m,\u001b[0m\u001b[0;36m100\u001b[0m\u001b[0;34m]\u001b[0m\u001b[0;34m:\u001b[0m\u001b[0;34m\u001b[0m\u001b[0m\n\u001b[0;32m----> 2\u001b[0;31m     \u001b[0mMI_by_file\u001b[0m\u001b[0;34m,\u001b[0m \u001b[0mX_by_file\u001b[0m\u001b[0;34m,\u001b[0m \u001b[0mY_by_file\u001b[0m\u001b[0;34m=\u001b[0m\u001b[0mtesting_gene_net_derivative\u001b[0m\u001b[0;34m(\u001b[0m\u001b[0;34m\"Dataset1/\"\u001b[0m\u001b[0;34m,\u001b[0m \u001b[0ma\u001b[0m\u001b[0;34m,\u001b[0m\u001b[0mb\u001b[0m\u001b[0;34m,\u001b[0m\u001b[0mc\u001b[0m\u001b[0;34m,\u001b[0m\u001b[0mn\u001b[0m\u001b[0;34m)\u001b[0m\u001b[0;34m\u001b[0m\u001b[0m\n\u001b[0m\u001b[1;32m      3\u001b[0m     \u001b[0mtitle\u001b[0m\u001b[0;34m(\u001b[0m\u001b[0;34m\"n=\"\u001b[0m\u001b[0;34m+\u001b[0m\u001b[0mstr\u001b[0m\u001b[0;34m(\u001b[0m\u001b[0mn\u001b[0m\u001b[0;34m)\u001b[0m\u001b[0;34m)\u001b[0m\u001b[0;34m\u001b[0m\u001b[0m\n\u001b[1;32m      4\u001b[0m     \u001b[0mplot_MI_by_file\u001b[0m\u001b[0;34m(\u001b[0m\u001b[0mMI_by_file\u001b[0m\u001b[0;34m)\u001b[0m\u001b[0;34m\u001b[0m\u001b[0m\n",
      "\u001b[0;32m<ipython-input-89-ba3ac6c816ed>\u001b[0m in \u001b[0;36mtesting_gene_net_derivative\u001b[0;34m(directory, a, b, c, n)\u001b[0m\n\u001b[1;32m      9\u001b[0m         \u001b[0mnet\u001b[0m\u001b[0;34m=\u001b[0m\u001b[0mESN\u001b[0m\u001b[0;34m(\u001b[0m\u001b[0mos\u001b[0m\u001b[0;34m.\u001b[0m\u001b[0mpath\u001b[0m\u001b[0;34m.\u001b[0m\u001b[0mjoin\u001b[0m\u001b[0;34m(\u001b[0m\u001b[0mdirectory\u001b[0m\u001b[0;34m,\u001b[0m \u001b[0mfile\u001b[0m\u001b[0;34m)\u001b[0m\u001b[0;34m,\u001b[0m\u001b[0;36m1\u001b[0m\u001b[0;34m,\u001b[0m\u001b[0;36m1\u001b[0m\u001b[0;34m,\u001b[0m\u001b[0;36m0.95\u001b[0m\u001b[0;34m)\u001b[0m\u001b[0;34m\u001b[0m\u001b[0m\n\u001b[1;32m     10\u001b[0m         \u001b[0mnet\u001b[0m\u001b[0;34m.\u001b[0m\u001b[0minitialize\u001b[0m\u001b[0;34m(\u001b[0m\u001b[0;34m)\u001b[0m\u001b[0;34m\u001b[0m\u001b[0m\n\u001b[0;32m---> 11\u001b[0;31m         \u001b[0mnet\u001b[0m\u001b[0;34m.\u001b[0m\u001b[0mcollect_states_derivative\u001b[0m\u001b[0;34m(\u001b[0m\u001b[0ma\u001b[0m\u001b[0;34m,\u001b[0m\u001b[0mb\u001b[0m\u001b[0;34m,\u001b[0m\u001b[0mc\u001b[0m\u001b[0;34m,\u001b[0m\u001b[0minitLen\u001b[0m\u001b[0;34m,\u001b[0m\u001b[0mtrainLen\u001b[0m\u001b[0;34m,\u001b[0m\u001b[0mtestLen\u001b[0m\u001b[0;34m,\u001b[0m\u001b[0mn\u001b[0m\u001b[0;34m)\u001b[0m\u001b[0;34m\u001b[0m\u001b[0m\n\u001b[0m\u001b[1;32m     12\u001b[0m         \u001b[0mnet\u001b[0m\u001b[0;34m.\u001b[0m\u001b[0mcalculate_weights_derivative\u001b[0m\u001b[0;34m(\u001b[0m\u001b[0minitLen\u001b[0m\u001b[0;34m,\u001b[0m\u001b[0mtrainLen\u001b[0m\u001b[0;34m,\u001b[0m\u001b[0mn\u001b[0m\u001b[0;34m)\u001b[0m\u001b[0;34m\u001b[0m\u001b[0m\n\u001b[1;32m     13\u001b[0m         \u001b[0mnet\u001b[0m\u001b[0;34m.\u001b[0m\u001b[0mrun_predictive_derivative\u001b[0m\u001b[0;34m(\u001b[0m\u001b[0ma\u001b[0m\u001b[0;34m,\u001b[0m\u001b[0mb\u001b[0m\u001b[0;34m,\u001b[0m\u001b[0mc\u001b[0m\u001b[0;34m,\u001b[0m\u001b[0mtestLen\u001b[0m\u001b[0;34m,\u001b[0m\u001b[0mtrainLen\u001b[0m\u001b[0;34m)\u001b[0m\u001b[0;34m\u001b[0m\u001b[0m\n",
      "\u001b[0;32m<ipython-input-88-99e61584f60c>\u001b[0m in \u001b[0;36mcollect_states_derivative\u001b[0;34m(self, a, b, c, init_len, train_len, test_len, n)\u001b[0m\n\u001b[1;32m     53\u001b[0m         \u001b[0mself\u001b[0m\u001b[0;34m.\u001b[0m\u001b[0mX\u001b[0m\u001b[0;34m=\u001b[0m\u001b[0mnp\u001b[0m\u001b[0;34m.\u001b[0m\u001b[0mzeros\u001b[0m\u001b[0;34m(\u001b[0m\u001b[0;34m(\u001b[0m\u001b[0mself\u001b[0m\u001b[0;34m.\u001b[0m\u001b[0mres_size\u001b[0m\u001b[0;34m+\u001b[0m\u001b[0mself\u001b[0m\u001b[0;34m.\u001b[0m\u001b[0min_size\u001b[0m\u001b[0;34m+\u001b[0m\u001b[0;36m1\u001b[0m\u001b[0;34m,\u001b[0m \u001b[0mtrain_len\u001b[0m\u001b[0;34m-\u001b[0m\u001b[0minit_len\u001b[0m\u001b[0;34m)\u001b[0m\u001b[0;34m)\u001b[0m\u001b[0;34m\u001b[0m\u001b[0m\n\u001b[1;32m     54\u001b[0m         \u001b[0mt\u001b[0m\u001b[0;34m=\u001b[0m\u001b[0mnp\u001b[0m\u001b[0;34m.\u001b[0m\u001b[0marange\u001b[0m\u001b[0;34m(\u001b[0m\u001b[0mtrain_len\u001b[0m\u001b[0;34m+\u001b[0m\u001b[0mtest_len\u001b[0m\u001b[0;34m)\u001b[0m\u001b[0;34m\u001b[0m\u001b[0m\n\u001b[0;32m---> 55\u001b[0;31m         \u001b[0muyz_x\u001b[0m\u001b[0;34m=\u001b[0m\u001b[0mscipy\u001b[0m\u001b[0;34m.\u001b[0m\u001b[0mintegrate\u001b[0m\u001b[0;34m.\u001b[0m\u001b[0modeint\u001b[0m\u001b[0;34m(\u001b[0m\u001b[0mself\u001b[0m\u001b[0;34m.\u001b[0m\u001b[0mdx_dt\u001b[0m\u001b[0;34m,\u001b[0m\u001b[0mself\u001b[0m\u001b[0;34m.\u001b[0m\u001b[0mx0\u001b[0m\u001b[0;34m,\u001b[0m\u001b[0mt\u001b[0m\u001b[0;34m,\u001b[0m\u001b[0margs\u001b[0m\u001b[0;34m=\u001b[0m\u001b[0;34m(\u001b[0m\u001b[0ma\u001b[0m\u001b[0;34m,\u001b[0m\u001b[0mb\u001b[0m\u001b[0;34m,\u001b[0m\u001b[0mc\u001b[0m\u001b[0;34m,\u001b[0m\u001b[0mself\u001b[0m\u001b[0;34m.\u001b[0m\u001b[0mdecay\u001b[0m\u001b[0;34m)\u001b[0m\u001b[0;34m)\u001b[0m\u001b[0;34m\u001b[0m\u001b[0m\n\u001b[0m\u001b[1;32m     56\u001b[0m         \u001b[0mself\u001b[0m\u001b[0;34m.\u001b[0m\u001b[0mu\u001b[0m\u001b[0;34m=\u001b[0m\u001b[0muyz_x\u001b[0m\u001b[0;34m[\u001b[0m\u001b[0;34m:\u001b[0m\u001b[0;34m,\u001b[0m\u001b[0;36m0\u001b[0m\u001b[0;34m]\u001b[0m\u001b[0;34m\u001b[0m\u001b[0m\n\u001b[1;32m     57\u001b[0m         \u001b[0mself\u001b[0m\u001b[0;34m.\u001b[0m\u001b[0mx_act\u001b[0m\u001b[0;34m=\u001b[0m\u001b[0muyz_x\u001b[0m\u001b[0;34m[\u001b[0m\u001b[0;34m:\u001b[0m\u001b[0;34m,\u001b[0m\u001b[0;36m3\u001b[0m\u001b[0;34m:\u001b[0m\u001b[0;34m]\u001b[0m\u001b[0;34m\u001b[0m\u001b[0m\n",
      "\u001b[0;32m~/anaconda3/lib/python3.6/site-packages/scipy/integrate/odepack.py\u001b[0m in \u001b[0;36modeint\u001b[0;34m(func, y0, t, args, Dfun, col_deriv, full_output, ml, mu, rtol, atol, tcrit, h0, hmax, hmin, ixpr, mxstep, mxhnil, mxordn, mxords, printmessg)\u001b[0m\n\u001b[1;32m    213\u001b[0m     output = _odepack.odeint(func, y0, t, args, Dfun, col_deriv, ml, mu,\n\u001b[1;32m    214\u001b[0m                              \u001b[0mfull_output\u001b[0m\u001b[0;34m,\u001b[0m \u001b[0mrtol\u001b[0m\u001b[0;34m,\u001b[0m \u001b[0matol\u001b[0m\u001b[0;34m,\u001b[0m \u001b[0mtcrit\u001b[0m\u001b[0;34m,\u001b[0m \u001b[0mh0\u001b[0m\u001b[0;34m,\u001b[0m \u001b[0mhmax\u001b[0m\u001b[0;34m,\u001b[0m \u001b[0mhmin\u001b[0m\u001b[0;34m,\u001b[0m\u001b[0;34m\u001b[0m\u001b[0m\n\u001b[0;32m--> 215\u001b[0;31m                              ixpr, mxstep, mxhnil, mxordn, mxords)\n\u001b[0m\u001b[1;32m    216\u001b[0m     \u001b[0;32mif\u001b[0m \u001b[0moutput\u001b[0m\u001b[0;34m[\u001b[0m\u001b[0;34m-\u001b[0m\u001b[0;36m1\u001b[0m\u001b[0;34m]\u001b[0m \u001b[0;34m<\u001b[0m \u001b[0;36m0\u001b[0m\u001b[0;34m:\u001b[0m\u001b[0;34m\u001b[0m\u001b[0m\n\u001b[1;32m    217\u001b[0m         \u001b[0mwarning_msg\u001b[0m \u001b[0;34m=\u001b[0m \u001b[0m_msgs\u001b[0m\u001b[0;34m[\u001b[0m\u001b[0moutput\u001b[0m\u001b[0;34m[\u001b[0m\u001b[0;34m-\u001b[0m\u001b[0;36m1\u001b[0m\u001b[0;34m]\u001b[0m\u001b[0;34m]\u001b[0m \u001b[0;34m+\u001b[0m \u001b[0;34m\" Run with full_output = 1 to get quantitative information.\"\u001b[0m\u001b[0;34m\u001b[0m\u001b[0m\n",
      "\u001b[0;32m<ipython-input-88-99e61584f60c>\u001b[0m in \u001b[0;36mdx_dt\u001b[0;34m(self, uyz_x, t, a, b, c, decay)\u001b[0m\n\u001b[1;32m     67\u001b[0m         \u001b[0my\u001b[0m\u001b[0;34m=\u001b[0m\u001b[0muyz_x\u001b[0m\u001b[0;34m[\u001b[0m\u001b[0;36m1\u001b[0m\u001b[0;34m]\u001b[0m\u001b[0;34m\u001b[0m\u001b[0m\n\u001b[1;32m     68\u001b[0m         \u001b[0mz\u001b[0m\u001b[0;34m=\u001b[0m\u001b[0muyz_x\u001b[0m\u001b[0;34m[\u001b[0m\u001b[0;36m2\u001b[0m\u001b[0;34m]\u001b[0m\u001b[0;34m\u001b[0m\u001b[0m\n\u001b[0;32m---> 69\u001b[0;31m         \u001b[0mx\u001b[0m\u001b[0;34m=\u001b[0m\u001b[0mnp\u001b[0m\u001b[0;34m.\u001b[0m\u001b[0marray\u001b[0m\u001b[0;34m(\u001b[0m\u001b[0muyz_x\u001b[0m\u001b[0;34m[\u001b[0m\u001b[0;36m3\u001b[0m\u001b[0;34m:\u001b[0m\u001b[0;34m]\u001b[0m\u001b[0;34m)\u001b[0m\u001b[0;34m.\u001b[0m\u001b[0mreshape\u001b[0m\u001b[0;34m(\u001b[0m\u001b[0mself\u001b[0m\u001b[0;34m.\u001b[0m\u001b[0mres_size\u001b[0m\u001b[0;34m,\u001b[0m\u001b[0;36m1\u001b[0m\u001b[0;34m)\u001b[0m\u001b[0;34m\u001b[0m\u001b[0m\n\u001b[0m\u001b[1;32m     70\u001b[0m \u001b[0;34m\u001b[0m\u001b[0m\n\u001b[1;32m     71\u001b[0m         \u001b[0mdu_dt\u001b[0m\u001b[0;34m=\u001b[0m\u001b[0;34m-\u001b[0m\u001b[0mz\u001b[0m\u001b[0;34m-\u001b[0m\u001b[0my\u001b[0m\u001b[0;34m\u001b[0m\u001b[0m\n",
      "\u001b[0;31mKeyboardInterrupt\u001b[0m: "
     ]
    }
   ],
   "source": [
    "for n in [10,20,50,80,100]:\n",
    "    MI_by_file, X_by_file, Y_by_file=testing_gene_net_derivative(\"Dataset1/\", a,b,c,n)\n",
    "    title(\"n=\"+str(n))\n",
    "    plot_MI_by_file(MI_by_file)"
   ]
  },
  {
   "cell_type": "code",
   "execution_count": null,
   "metadata": {},
   "outputs": [
    {
     "name": "stdout",
     "output_type": "stream",
     "text": [
      "network_edge_list_DBTBS.csv\n",
      "13 NRMSE = 0.292235716148148\n",
      "13  FINISHED\n",
      "network_edge_list_YEASTRACT.csv\n",
      "289 NRMSE = 1.6512470447540866\n",
      "289  FINISHED\n",
      "network_edge_list_ENCODE.csv\n",
      "207 NRMSE = 1.2713404337719383\n",
      "207  FINISHED\n",
      "network_edge_list_EcoCyc.csv\n",
      "70 NRMSE = 0.0722542864805565\n",
      "70  FINISHED\n",
      "network_edge_list_modENCODE.csv\n",
      "486 NRMSE = 16.289662781081883\n",
      "486  FINISHED\n"
     ]
    },
    {
     "data": {
      "image/png": "[encoded data removed]",
      "text/plain": [
       "<matplotlib.figure.Figure at 0x7fb45040a2b0>"
      ]
     },
     "metadata": {},
     "output_type": "display_data"
    },
    {
     "name": "stdout",
     "output_type": "stream",
     "text": [
      "network_edge_list_DBTBS.csv\n",
      "13 NRMSE = 3.420112219728889\n",
      "13  FINISHED\n",
      "network_edge_list_YEASTRACT.csv\n",
      "289 NRMSE = 3.4159588699928185\n",
      "289  FINISHED\n",
      "network_edge_list_ENCODE.csv\n"
     ]
    }
   ],
   "source": [
    "for n in [0,50]:\n",
    "    MI_by_file, X_by_file, Y_by_file=testing_gene_net_derivative(\"Dataset1/\", a,b,c,n)\n",
    "    title(\"n=\"+str(n))\n",
    "    plot_MI_by_file(MI_by_file)"
   ]
  },
  {
   "cell_type": "code",
   "execution_count": null,
   "metadata": {
    "collapsed": true
   },
   "outputs": [],
   "source": []
  }
 ],
 "metadata": {
  "kernelspec": {
   "display_name": "Python 3",
   "language": "python",
   "name": "python3"
  },
  "language_info": {
   "codemirror_mode": {
    "name": "ipython",
    "version": 3
   },
   "file_extension": ".py",
   "mimetype": "text/x-python",
   "name": "python",
   "nbconvert_exporter": "python",
   "pygments_lexer": "ipython3",
   "version": "3.6.3"
  }
 },
 "nbformat": 4,
 "nbformat_minor": 2
}
