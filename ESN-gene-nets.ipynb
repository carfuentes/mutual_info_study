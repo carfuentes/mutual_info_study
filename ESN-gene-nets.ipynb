{
 "cells": [
  {
   "cell_type": "code",
   "execution_count": 1,
   "metadata": {
    "collapsed": true
   },
   "outputs": [],
   "source": [
    "import networkx as nx\n",
    "import numpy as np\n",
    "import random as rand\n",
    "import scipy\n",
    "from matplotlib.pyplot import *\n",
    "from sklearn.metrics import mean_squared_error\n",
    "from sklearn.metrics import mutual_info_score\n",
    "from sklearn.metrics import normalized_mutual_info_score\n",
    "import os\n",
    "from math import sqrt\n",
    "from math import sin\n",
    "import json\n",
    "from statistics import mean\n",
    "import entropy_estimators as ee\n",
    "import scipy.spatial as ss\n",
    "from scipy.special import digamma,gamma\n",
    "from math import log,pi\n",
    "import numpy.random as nr\n",
    "\n"
   ]
  },
  {
   "cell_type": "code",
   "execution_count": 2,
   "metadata": {
    "collapsed": true
   },
   "outputs": [],
   "source": [
    "#networkx 1.10\n",
    "def get_cyclic_net_v1(filename):\n",
    "    G=nx.read_edgelist(filename, comments='#', delimiter=\"\\t\", nodetype =str,  data=(('mode',str),), create_using=nx.DiGraph())\n",
    "    G.remove_nodes_from([\"Source\", \"Target\"])\n",
    "    selfloops=G.selfloop_edges()\n",
    "    G.remove_edges_from(G.selfloop_edges())\n",
    "    \n",
    "    \n",
    "    while 0 in G.in_degree().values() or 0 in G.out_degree().values():\n",
    "        nodes_to_remove=[node for node in G if G.in_degree(node) == 0 or G.out_degree(node) == 0]\n",
    "        G.remove_nodes_from(nodes_to_remove)\n",
    "        \n",
    "    selfloops_in_reservoir=[edge for edge in selfloops if edge[0] in G.nodes()]\n",
    "    G.add_edges_from(selfloops_in_reservoir)\n",
    "    return G\n",
    "    "
   ]
  },
  {
   "cell_type": "code",
   "execution_count": 3,
   "metadata": {
    "collapsed": true
   },
   "outputs": [],
   "source": [
    "#networkx 2.1\n",
    "def get_cyclic_net(filename):\n",
    "    G=nx.read_edgelist(filename, comments='#', delimiter=\"\\t\", nodetype =str,  data=(('mode',str),), create_using=nx.DiGraph())\n",
    "    G.remove_nodes_from([\"Source\", \"Target\"])\n",
    "    selfloops=G.selfloop_edges()\n",
    "    G.remove_edges_from(G.selfloop_edges())\n",
    "\n",
    "    while 0 in [d[1] for d in G.in_degree()] or 0 in [d[1] for d in G.out_degree()]:\n",
    "        nodes_to_remove=[node for node in G if G.in_degree(node) == 0 or G.out_degree(node) == 0]\n",
    "        G.remove_nodes_from(nodes_to_remove)\n",
    "        \n",
    "    selfloops_in_reservoir=[edge for edge in selfloops if edge[0] in G.nodes()]\n",
    "    G.add_edges_from(selfloops_in_reservoir)\n",
    "    return G"
   ]
  },
  {
   "cell_type": "code",
   "execution_count": 69,
   "metadata": {
    "collapsed": true
   },
   "outputs": [],
   "source": [
    "class ESN(object):\n",
    "    def __init__(self, filename, in_size, out_size, spectral_radius):\n",
    "        self.res_size= self.build_adj_weighted_matrix(filename).shape[0]\n",
    "        self.in_size=in_size\n",
    "        self.out_size=out_size\n",
    "        self.spectral_radius= spectral_radius\n",
    "        self.W0=self.build_adj_weighted_matrix(filename)\n",
    "        self.W=None\n",
    "        self.Win=None\n",
    "        self.Wout=None\n",
    "        self.X=None\n",
    "        self.Y=None\n",
    "        self.x=np.zeros((self.res_size,1))\n",
    "        self.x0=np.insert(np.random.rand(self.res_size)*10,0,[1.0,1.0,1.0])\n",
    "        self.decay=np.random.rand(self.res_size,1)*5\n",
    "        self.u=None\n",
    "        self.x_act=None\n",
    "\n",
    "    \n",
    "    def build_adj_weighted_matrix(self, filename):\n",
    "        #NETWORK v2.0\n",
    "        net=get_cyclic_net(filename)\n",
    "        for edge in net.edges(data=\"mode\", default=0):\n",
    "            source,target,mode=edge\n",
    "            if mode== \"+\":\n",
    "                net[source][target][\"weight\"]= rand.uniform(0,1)\n",
    "            elif mode== \"-\":\n",
    "                net[source][target][\"weight\"]= rand.uniform(0,-1)\n",
    "            elif mode== 0:\n",
    "                net[source][target][\"weight\"]= rand.uniform(-1,1)\n",
    "        return nx.to_numpy_matrix(net)\n",
    "    \n",
    "    def initialize(self): \n",
    "        np.random.seed(42)\n",
    "        self.Win=np.random.choice([-0.05,0.05], size=(self.res_size,1+self.in_size))\n",
    "        self.W0 = np.squeeze(np.asarray(self.W0))\n",
    "        rhoW0 = max(abs(scipy.linalg.eig(self.W0)[0]))\n",
    "        self.W= (self.spectral_radius/rhoW0)*self.W0\n",
    "        \n",
    "\n",
    "    def collect_states(self, data, init_len, train_len, a=0.3):\n",
    "        self.X=np.zeros((self.res_size+self.in_size+1, train_len-init_len))\n",
    "        for t in range(train_len):\n",
    "            u = data[t]\n",
    "            self.x = (1-a)*self.x + a*np.tanh( np.dot( self.Win, np.vstack((1,u)) ) + np.dot( self.W, self.x ) ) \n",
    "            if t >= init_len:\n",
    "                self.X[:,t-init_len]= np.vstack((1,u,self.x))[:,0]\n",
    "        \n",
    "        return self.X\n",
    "    \n",
    "    \n",
    "    def collect_states_derivative(self, a,b,c, init_len, train_len, test_len, n=2):\n",
    "        self.X=np.zeros((self.res_size+self.in_size+1, train_len-init_len))\n",
    "        t=np.arange(train_len+test_len)\n",
    "        uyz_x=scipy.integrate.odeint(self.dx_dt,self.x0,t,args=(a,b,c,self.decay))\n",
    "        self.u=uyz_x[:,0]\n",
    "        self.x_act=uyz_x[:,3:]\n",
    "        for t in range(init_len-n,train_len-n):\n",
    "            x_concat=self.x_act[t,:].reshape(self.x_act[t,:].shape[0],1)\n",
    "            u_concat=self.u[t]\n",
    "            self.X[:,t-init_len+n]= np.vstack((1,u_concat,x_concat))[:,0]\n",
    "               \n",
    "        return self.X\n",
    "    \n",
    "    def dx_dt(self, uyz_x,t,a,b,c,decay):\n",
    "        u=uyz_x[0]\n",
    "        y=uyz_x[1]\n",
    "        z=uyz_x[2]\n",
    "        x=np.array(uyz_x[3:]).reshape(self.res_size,1)\n",
    "       \n",
    "        du_dt=-z-y\n",
    "        dy_dt=u+a*y\n",
    "        dz_dt=b+z*(u-c)\n",
    "        x= np.tanh( np.dot( self.Win, np.vstack((1,u)) ) + np.dot( self.W, x ) ) - np.multiply(decay,x)\n",
    "        \n",
    "        return np.insert(x,0,[du_dt,dy_dt,dz_dt])\n",
    "        \n",
    "    def calculate_weights(self, data, init_len, train_len, beta=1e-8 ):\n",
    "        Y=data[None,init_len+1:train_len+1]\n",
    "        X_T=self.X.T\n",
    "        self.Wout= np.dot ( np.dot(Y, X_T), np.linalg.inv(np.dot(self.X,X_T) + beta * np.eye(self.res_size+self.in_size+1)))\n",
    "        return self.Wout\n",
    "    \n",
    "    def calculate_weights_derivative(self,init_len, train_len, beta=1e-8 ):\n",
    "        Y=np.array([self.u[init_len+1:train_len+1]])\n",
    "        X_T=self.X.T\n",
    "        self.Wout= np.dot ( np.dot(Y, X_T), np.linalg.inv(np.dot(self.X,X_T) + beta * np.eye(self.res_size+self.in_size+1))) #w= y*x_t*(x*x_t + beta*I)^-1\n",
    "        return self.Wout\n",
    "    \n",
    "    def run_generative(self, data, test_len, train_len,a=0.3):\n",
    "        self.Y = np.zeros((self.out_size,test_len))\n",
    "        u = data[train_len]\n",
    "        for t in range(test_len):\n",
    "            self.x = (1-a)*self.x + a*np.tanh( np.dot( self.Win, np.vstack((1,u)) ) + np.dot( self.W, self.x ) ) \n",
    "            y = np.dot( self.Wout, np.vstack((1,u,self.x)) )\n",
    "            self.Y[:,t] = y\n",
    "            u = data[trainLen+t+1]\n",
    "            #u =y\n",
    "    \n",
    "    def run_predictive_derivative(self, a,b,c, test_len, train_len,dt=1):\n",
    "        self.Y = np.zeros((self.out_size,test_len))\n",
    "        \n",
    "        for t in range(train_len,train_len+test_len):\n",
    "            x_concat=self.x_act[t,:].reshape(self.x_act[t,:].shape[0],1)\n",
    "            u_concat=self.u[t]\n",
    "            y = np.dot( self.Wout, np.vstack((1,u_concat,x_concat)) )\n",
    "            self.Y[:,t-train_len] = y\n",
    "           \n",
    "        \n",
    "        return self.Y"
   ]
  },
  {
   "cell_type": "code",
   "execution_count": 5,
   "metadata": {
    "collapsed": true
   },
   "outputs": [],
   "source": [
    "##################################################################################"
   ]
  },
  {
   "cell_type": "code",
   "execution_count": 6,
   "metadata": {
    "collapsed": true
   },
   "outputs": [],
   "source": [
    "#                                   FUNCTIONS                                    #"
   ]
  },
  {
   "cell_type": "code",
   "execution_count": 7,
   "metadata": {
    "collapsed": true
   },
   "outputs": [],
   "source": [
    "#NARMA \n",
    "def NARMA_task(steps, data, init_len, train_len):\n",
    "        Y=np.zeros(train_len)\n",
    "        for t in range(init_len,train_len):\n",
    "            Y[t]=0.3* Y[t-1] + 0.05*Y[t-1]*np.sum(Y[t-1:t-steps])+ 1.5*data[t-steps]*data[t-1]+0.1\n",
    "                \n",
    "        return Y"
   ]
  },
  {
   "cell_type": "code",
   "execution_count": 8,
   "metadata": {
    "collapsed": true
   },
   "outputs": [],
   "source": [
    "def testing_gene_net(directory,input_data,data):\n",
    "    csv_files= [file for file in os.listdir(directory) if file.startswith(\"network_edge_list\")]\n",
    "    print(csv_files)\n",
    "    MI_by_file={}\n",
    "    for file in csv_files:\n",
    "        filename=file[file.index(\"list\")+5:file.index(\".csv\")]\n",
    "        net=ESN(os.path.join(directory, file),1,1,0.95)\n",
    "        net.initialize()\n",
    "        net.collect_states(input_data,initLen,trainLen)\n",
    "        net.calculate_weights(input_data,initLen,trainLen)\n",
    "        net.run_generative(input_data,testLen,trainLen)\n",
    "        MI_by_file[filename]=memory_capacity_n(net.Y, data,100)\n",
    "        nrmse= sqrt(mean_squared_error(data[trainLen+1:trainLen+errorLen+1],net.Y[0,0:errorLen])/np.std(net.Y[0,0:errorLen]))\n",
    "        print(net.res_size, 'NRMSE = ' + str( nrmse ))\n",
    "        print(memory_capacity_n(net.Y, data,20))\n",
    "        \n",
    "    return MI_by_file\n",
    "        #plot( data[trainLen+1:trainLen+testLen+1], 'g' )\n",
    "        #plot( net.Y.T, 'b' )\n",
    "        #title('Target and generated signals $y(n)$ starting at $n=0$')\n",
    "        #legend(['Target signal', 'Free-running predicted signal'])\n",
    "        #show()\n",
    "      \n"
   ]
  },
  {
   "cell_type": "code",
   "execution_count": 9,
   "metadata": {
    "collapsed": true
   },
   "outputs": [],
   "source": [
    "def testing_gene_net_derivative(directory,a,b,c,n=20):\n",
    "    csv_files= [file for file in os.listdir(directory) if file.startswith(\"network_edge_list\")]\n",
    "    Y_by_file={}\n",
    "    X_by_file={}\n",
    "    MI_by_file={}\n",
    "    for file in csv_files:\n",
    "        print(file)\n",
    "        filename=file[file.index(\"list\")+5:file.index(\".csv\")]\n",
    "        net=ESN(os.path.join(directory, file),1,1,0.95)\n",
    "        net.initialize()\n",
    "        net.collect_states_derivative(a,b,c,initLen,trainLen,testLen,n)\n",
    "        net.calculate_weights_derivative(initLen,trainLen)\n",
    "        net.run_predictive_derivative(a,b,c,testLen,trainLen)\n",
    "        nrmse= sqrt(mean_squared_error(net.u[trainLen+1:trainLen+errorLen+1],net.Y[0,0:errorLen])/np.std(net.Y[0,0:errorLen]))\n",
    "        print(net.res_size, 'NRMSE = ' + str( nrmse ))\n",
    "        X_by_file[filename]=net.u\n",
    "        Y_by_file[filename]=net.Y\n",
    "        MI_by_file[filename]=memory_capacity_n(net.Y, net.u,n)\n",
    "        print(net.res_size, \" FINISHED\")\n",
    "    return MI_by_file, X_by_file, Y_by_file\n",
    "  \n"
   ]
  },
  {
   "cell_type": "code",
   "execution_count": 10,
   "metadata": {
    "collapsed": true
   },
   "outputs": [],
   "source": [
    "def testing_gene_net_file(directory,file):\n",
    "    print(file)\n",
    "    filename=file[file.index(\"list\")+5:file.index(\".csv\")]\n",
    "    net=ESN(os.path.join(directory, file),1,1,0.95)\n",
    "    net.initialize()\n",
    "    net.collect_states(data,initLen,trainLen)\n",
    "    net.calculate_weights(data,initLen,trainLen)\n",
    "    net.run_generative(data,testLen,trainLen)\n",
    "    nrmse= sqrt(mean_squared_error(data[trainLen+1:trainLen+errorLen+1],net.Y[0,0:errorLen])/np.std(net.Y[0,0:errorLen]))\n",
    "    print(net.res_size, 'NRMSE = ' + str( nrmse ))\n",
    "    return memory_capacity_n(net.Y, data,100)\n",
    "    "
   ]
  },
  {
   "cell_type": "code",
   "execution_count": 11,
   "metadata": {
    "collapsed": true
   },
   "outputs": [],
   "source": [
    "def testing_gene_net_derivative_file(directory,file):\n",
    "    print(file)\n",
    "    filename=file[file.index(\"list\")+5:file.index(\".csv\")]\n",
    "    net=ESN(os.path.join(directory, file),1,1,0.95)\n",
    "    net.initialize()\n",
    "    net.collect_states_derivative(a,b,c,initLen,trainLen,testLen)\n",
    "    net.calculate_weights_derivative(initLen,trainLen)\n",
    "    net.run_predictive_derivative(a,b,c,testLen,trainLen)\n",
    "    #nrmse= sqrt(mean_squared_error(net.u[trainLen+1:trainLen+errorLen+1],net.Y[0,0:errorLen])/np.std(net.Y[0,0:errorLen]))\n",
    "    #print(net.res_size, 'NRMSE = ' + str( nrmse ))\n",
    "    #plot(np.arange(trainLen+testLen+1),net.u)\n",
    "    #show()\n",
    "    return memory_capacity_n(net.Y,net.u,100)"
   ]
  },
  {
   "cell_type": "code",
   "execution_count": 12,
   "metadata": {
    "collapsed": true
   },
   "outputs": [],
   "source": [
    "def entropy(x,k=3,base=2):\n",
    "    \"\"\" The classic K-L k-nearest neighbor continuous entropy estimator\n",
    "         x should be a list of vectors, e.g. x = [[1.3],[3.7],[5.1],[2.4]]\n",
    "        if x is a one-dimensional scalar and we have four samples\n",
    "    \"\"\"\n",
    "    assert k <= len(x)-1 #\"Set k smaller than num. samples - 1\"\n",
    "    d = len(x[0])\n",
    "    N = len(x)\n",
    "    intens = 1e-10 #small noise to break degeneracy, see doc.\n",
    "    x = [list(p + intens*nr.rand(len(x[0]))) for p in x]\n",
    "    tree = ss.cKDTree(x)\n",
    "    nn = [tree.query(point,k+1,p=float('inf'))[0][k] for point in x]\n",
    "    const = digamma(N)-digamma(k) + d*log(2)\n",
    "    return (const + d*np.mean(list(map(log,nn)),dtype=np.float64))/log(base)"
   ]
  },
  {
   "cell_type": "code",
   "execution_count": 13,
   "metadata": {
    "collapsed": true
   },
   "outputs": [],
   "source": [
    "def calc_MI(x, y):\n",
    "    bins=sqrt(x.shape[0]/5)\n",
    "    c_xy = np.histogram2d(x, y, bins)[0]\n",
    "    mi = mutual_info_score(None, None, contingency=c_xy)\n",
    "    #mi = mutual_info_score(x,y)\n",
    "    return mi"
   ]
  },
  {
   "cell_type": "code",
   "execution_count": 14,
   "metadata": {
    "collapsed": true
   },
   "outputs": [],
   "source": [
    "def calc_MI_npeet(x,y):\n",
    "    return ee.mi(x.reshape((x.shape[0],1)), y.reshape((y.shape[0],1)), base=2)/entropy(x.reshape((x.shape[0],1)))"
   ]
  },
  {
   "cell_type": "code",
   "execution_count": 15,
   "metadata": {
    "collapsed": true
   },
   "outputs": [],
   "source": [
    "def memory_capacity_n(Yt, Xt,n):\n",
    "    MI_i={}\n",
    "    for i in range(1,2*n+1):\n",
    "        MI_i[i]=calc_MI_npeet(Yt[0,300:350],Xt[300-i:350-i])    \n",
    "    return MI_i"
   ]
  },
  {
   "cell_type": "code",
   "execution_count": 16,
   "metadata": {
    "collapsed": true
   },
   "outputs": [],
   "source": [
    "def plot_MI_i(key,mi_dict):\n",
    "    x=[]\n",
    "    y=[]\n",
    "    for i,MI in mi_dict.items():\n",
    "        x.append(i)\n",
    "        y.append(MI)\n",
    "    plot(x,y, label=key)\n"
   ]
  },
  {
   "cell_type": "code",
   "execution_count": 17,
   "metadata": {
    "collapsed": true
   },
   "outputs": [],
   "source": [
    "def plot_MI_by_file(MI_by_file):\n",
    "    for key in MI_by_file.keys():\n",
    "        plot_MI_i(key, MI_by_file[key])\n",
    "    legend(loc='upper left')\n",
    "    show()\n",
    "    "
   ]
  },
  {
   "cell_type": "code",
   "execution_count": 18,
   "metadata": {
    "collapsed": true
   },
   "outputs": [],
   "source": [
    "##################################################################################"
   ]
  },
  {
   "cell_type": "code",
   "execution_count": 19,
   "metadata": {
    "collapsed": true
   },
   "outputs": [],
   "source": [
    "#                                   TESTEOS                                      #"
   ]
  },
  {
   "cell_type": "code",
   "execution_count": 27,
   "metadata": {},
   "outputs": [
    {
     "data": {
      "text/plain": [
       "486"
      ]
     },
     "execution_count": 27,
     "metadata": {},
     "output_type": "execute_result"
    }
   ],
   "source": [
    "# TESTEO get_cyclic_net\n",
    "G=get_cyclic_net(os.path.join(\"Dataset1/\", \"network_edge_list_modENCODE.csv\"))\n",
    "len(G.nodes())"
   ]
  },
  {
   "cell_type": "code",
   "execution_count": 63,
   "metadata": {},
   "outputs": [],
   "source": [
    "#TESTEO adjacency matrix\n",
    "net=ESN(os.path.join(\"Dataset1/\", \"network_edge_list_DBTBS.csv\"),1,1,0.95)\n",
    "#net.W0"
   ]
  },
  {
   "cell_type": "code",
   "execution_count": 64,
   "metadata": {},
   "outputs": [
    {
     "name": "stdout",
     "output_type": "stream",
     "text": [
      "(13, 13)\n",
      "0.95\n"
     ]
    }
   ],
   "source": [
    "#TESTEO initialize\n",
    "net.initialize()\n",
    "print(net.W.shape)\n",
    "print(max(abs(scipy.linalg.eig(net.W)[0])))"
   ]
  },
  {
   "cell_type": "code",
   "execution_count": 65,
   "metadata": {},
   "outputs": [
    {
     "name": "stdout",
     "output_type": "stream",
     "text": [
      "0\n",
      "1\n",
      "2\n",
      "3\n",
      "4\n",
      "5\n",
      "6\n",
      "7\n"
     ]
    },
    {
     "data": {
      "text/plain": [
       "array([[  1.00000000e+00,   1.00000000e+00,   1.00000000e+00,\n",
       "          1.00000000e+00,   1.00000000e+00,   1.00000000e+00,\n",
       "          1.00000000e+00,   1.00000000e+00],\n",
       "       [  1.00000000e+00,  -6.10916471e-01,  -1.78717942e+00,\n",
       "         -1.41952033e+00,   5.38529599e-01,   2.48542596e+00,\n",
       "          2.38437985e+00,  -2.10042030e-01],\n",
       "       [  2.12339111e+00,   5.48499338e-01,   1.63411499e-01,\n",
       "         -1.80952247e-02,  -5.19008318e-02,   2.86900475e-02,\n",
       "          1.16995242e-01,   9.84357955e-02],\n",
       "       [  1.81824967e+00,  -1.52034462e-02,  -3.88389154e-02,\n",
       "          4.35560676e-03,  -5.67921995e-03,  -5.33502738e-02,\n",
       "         -8.49879506e-02,  -5.79237291e-02],\n",
       "       [  1.83404510e+00,  -2.20893949e-01,  -3.11166657e-01,\n",
       "         -2.93832417e-01,  -2.56271161e-01,  -2.02798137e-01,\n",
       "         -1.57224411e-01,  -1.44669123e-01],\n",
       "       [  3.04242243e+00,   2.91568209e+00,   2.51739580e+00,\n",
       "          2.14865980e+00,   1.77648634e+00,   1.35660305e+00,\n",
       "          9.47948814e-01,   6.79882212e-01],\n",
       "       [  5.24756432e+00,   5.64993020e-01,   3.40386834e-01,\n",
       "          3.29317543e-01,   3.28074162e-01,   3.25633885e-01,\n",
       "          3.16520833e-01,   2.94107088e-01],\n",
       "       [  4.31945019e+00,   1.96611793e+00,   7.16672909e-01,\n",
       "          2.76756020e-01,   8.34030055e-02,  -6.36301788e-02,\n",
       "         -1.49918998e-01,  -1.17265949e-01],\n",
       "       [  2.91229140e+00,   2.83737012e+00,   2.44593052e+00,\n",
       "          2.12374543e+00,   1.84135588e+00,   1.55380030e+00,\n",
       "          1.30078368e+00,   1.16178150e+00],\n",
       "       [  6.11852895e+00,   8.36405478e-02,   1.95931506e-02,\n",
       "          2.70326245e-02,   9.73561920e-03,  -1.97532336e-02,\n",
       "         -3.08999770e-02,  -6.22073771e-03],\n",
       "       [  1.39493861e+00,  -3.22160647e-02,  -2.24425734e-02,\n",
       "         -7.07775850e-03,   1.49911886e-02,   3.18955595e-02,\n",
       "          2.93833416e-02,   6.80497897e-03],\n",
       "       [  2.92144649e+00,  -1.75759400e-01,  -1.24919938e-01,\n",
       "         -3.37529180e-02,  -1.11350689e-02,  -7.97933952e-03,\n",
       "          5.48752774e-03,   3.03618708e-02],\n",
       "       [  3.66361843e+00,   7.73935742e-01,   3.57768352e-01,\n",
       "          2.74998984e-01,   2.12169615e-01,   1.25896611e-01,\n",
       "          6.39608677e-02,   8.25176012e-02],\n",
       "       [  4.56069984e+00,   2.92350950e+00,   1.77370865e+00,\n",
       "          1.05141433e+00,   6.62461785e-01,   5.10373998e-01,\n",
       "          4.56160525e-01,   3.63711041e-01],\n",
       "       [  7.85175961e+00,   2.38187326e-02,  -1.82261897e-01,\n",
       "         -1.30978677e-01,  -6.63870596e-02,  -1.44827908e-02,\n",
       "          1.86337916e-03,  -1.83055184e-02]])"
      ]
     },
     "execution_count": 65,
     "metadata": {},
     "output_type": "execute_result"
    }
   ],
   "source": [
    "#TESTEO collect states\n",
    "net.collect_states_derivative(a,b,c, initLen, trainLen, testLen, n=2)\n",
    "net.X.shape\n",
    "net.X[:,7]"
   ]
  },
  {
   "cell_type": "code",
   "execution_count": 56,
   "metadata": {},
   "outputs": [
    {
     "data": {
      "text/plain": [
       "array([ 1.        , -0.61091647,  0.63431023, -0.13709912, -0.21594433,\n",
       "        3.07609838,  0.56499953,  2.08286955,  2.4682787 ,  0.06612533,\n",
       "       -0.05241386,  0.03303408,  0.7706316 ,  3.26836684, -0.02395912])"
      ]
     },
     "execution_count": 56,
     "metadata": {},
     "output_type": "execute_result"
    }
   ],
   "source": []
  },
  {
   "cell_type": "code",
   "execution_count": null,
   "metadata": {
    "collapsed": true
   },
   "outputs": [],
   "source": [
    "##################################################################################"
   ]
  },
  {
   "cell_type": "code",
   "execution_count": null,
   "metadata": {
    "collapsed": true
   },
   "outputs": [],
   "source": [
    "#                             RESULTS                                            #"
   ]
  },
  {
   "cell_type": "code",
   "execution_count": 67,
   "metadata": {
    "collapsed": true
   },
   "outputs": [],
   "source": [
    "# TRAINING AND TEST LENGHT\n",
    "errorLen = 500\n",
    "trainLen=9000\n",
    "testLen=1000\n",
    "initLen=200\n",
    "\n",
    "#Files\n",
    "csv_files=['network_edge_list_ENCODE.csv', 'network_edge_list_modENCODE.csv', 'network_edge_list_YEASTRACT.csv', 'network_edge_list_EcoCyc.csv', 'network_edge_list_DBTBS.csv']\n",
    "\n",
    "#parameters ROSSLER\n",
    "a=0.25\n",
    "b=0.20\n",
    "c=5.7"
   ]
  },
  {
   "cell_type": "code",
   "execution_count": null,
   "metadata": {
    "collapsed": true
   },
   "outputs": [],
   "source": [
    "#MACKEY GLASS"
   ]
  },
  {
   "cell_type": "code",
   "execution_count": 31,
   "metadata": {},
   "outputs": [
    {
     "name": "stdout",
     "output_type": "stream",
     "text": [
      "MACKEY GLASS\n",
      "['network_edge_list_DBTBS.csv', 'network_edge_list_YEASTRACT.csv', 'network_edge_list_ENCODE.csv', 'network_edge_list_EcoCyc.csv', 'network_edge_list_modENCODE.csv']\n",
      "13 NRMSE = 0.005412097122383191\n",
      "{1: -3.1912187528585187, 2: -3.032192268785292, 3: -3.1716514911909131, 4: -3.7236038438079038, 5: -4.6144510536433474, 6: -5.3087467475526573, 7: -5.3871771267977353, 8: -4.7479644540814983, 9: -4.0609375780097929, 10: -3.8896340484586913, 11: -3.9449813062659076, 12: -4.0007405712285813, 13: -3.994854727086937, 14: -4.0936102380939943, 15: -4.371529170189441, 16: -4.4286580465599998, 17: -4.3537342729667587, 18: -4.0966901130351179, 19: -3.866527871618914, 20: -3.650801146111442, 21: -3.4684301348222806, 22: -3.2856013505276889, 23: -3.480875977357849, 24: -3.6648286985845693, 25: -3.8005274264788347, 26: -4.1377578215785702, 27: -5.0666223143740368, 28: -6.11702702509983, 29: -7.2939962909472351, 30: -7.5852363084922487, 31: -7.0468800037561277, 32: -5.7166112379678502, 33: -4.6687844129253548, 34: -4.2872030525699021, 35: -3.9394363542928534, 36: -3.6684466214093376, 37: -3.4216562055030795, 38: -3.0291058400324373, 39: -2.720191555655326, 40: -2.6717399611919177}\n",
      "289 NRMSE = 0.0013220213037151225\n",
      "{1: -3.8717184349328111, 2: -3.7121143267301826, 3: -3.9554325431822503, 4: -4.6581131406106513, 5: -5.8938751038484689, 6: -6.7790998038281876, 7: -6.8615751651278885, 8: -5.9336779594733917, 9: -5.1483876660380163, 10: -4.8675762149775146, 11: -5.0192540872227394, 12: -5.0591696126446539, 13: -4.9572622541875058, 14: -5.0054928148015829, 15: -5.4318258068600498, 16: -5.4936759601579492, 17: -5.3518882301054704, 18: -5.0174704406065604, 19: -4.7738362323414609, 20: -4.5620536936885507, 21: -4.3049264539482435, 22: -4.0432372907933605, 23: -4.2933530803064368, 24: -4.5056512177529804, 25: -4.7200409910167505, 26: -5.1559781604770603, 27: -6.2841721680200617, 28: -7.6944155009710933, 29: -9.0590776495808925, 30: -9.5656646938152257, 31: -8.8274096799616348, 32: -6.9828208674555832, 33: -5.7300339083192906, 34: -5.2192452630499542, 35: -4.8618368914578651, 36: -4.462397063079572, 37: -4.27519230692217, 38: -3.6685908925769932, 39: -3.1839426831201645, 40: -3.1735075358668201}\n",
      "207 NRMSE = 0.0014109032300968244\n",
      "{1: -3.9086008246292936, 2: -3.7651685499058041, 3: -3.9987831932946549, 4: -4.7399533590454288, 5: -5.9584706374181495, 6: -6.8676001628259939, 7: -6.9573020332526596, 8: -6.0371105396229225, 9: -5.1855701421945541, 10: -4.927715286040244, 11: -5.0886960214927193, 12: -5.1057357188998829, 13: -5.0619444869144568, 14: -5.0969380024641389, 15: -5.5140363062114801, 16: -5.5783969277543894, 17: -5.428274500507694, 18: -5.0840064099966931, 19: -4.8377020044490484, 20: -4.5963378956776628, 21: -4.3636531140248564, 22: -4.0798531688294553, 23: -4.3699127551731554, 24: -4.5478161019751742, 25: -4.7573395618152494, 26: -5.2273308842274639, 27: -6.3761365373671532, 28: -7.7911148879652625, 29: -9.1102563420198699, 30: -9.7282303666205205, 31: -8.9433987909866897, 32: -7.0665670122696591, 33: -5.7856177999907086, 34: -5.2764470387979605, 35: -4.9233684140332166, 36: -4.5272478647456467, 37: -4.3364794550595462, 38: -3.713608480594607, 39: -3.230383597826616, 40: -3.2266256263005206}\n",
      "70 NRMSE = 0.0021764737718722236\n",
      "{1: -4.0158923590115894, 2: -3.8212014244980028, 3: -4.0805938117144294, 4: -4.8299005835337301, 5: -6.0718014528933502, 6: -7.0338294332193207, 7: -7.1382512942734273, 8: -6.2189039768716228, 9: -5.3573244486542748, 10: -5.0842281044324258, 11: -5.2418958985808137, 12: -5.2020774731294335, 13: -5.1742931819062141, 14: -5.209108578378177, 15: -5.6337943777268578, 16: -5.694396408834991, 17: -5.4982228496297534, 18: -5.1545812367462132, 19: -4.9144936663819809, 20: -4.6970646636954561, 21: -4.440163586791793, 22: -4.1373846893637269, 23: -4.4569294936035018, 24: -4.6409806164205119, 25: -4.8649901806909828, 26: -5.369103117983081, 27: -6.4994355508116124, 28: -7.9730090544749022, 29: -9.3651927874834993, 30: -9.9018966105060873, 31: -9.1237591655093624, 32: -7.2090355646653679, 33: -5.952340131779275, 34: -5.3507386405976236, 35: -5.0106883924112333, 36: -4.6264506448095251, 37: -4.4187808988299508, 38: -3.7950242123124758, 39: -3.3084408039460449, 40: -3.3045954537474991}\n",
      "486 NRMSE = 0.0014728869992877635\n",
      "{1: -3.9200707236620378, 2: -3.773748686519121, 3: -3.9897946390651851, 4: -4.7239743020381368, 5: -5.9642108144622128, 6: -6.8599995196016152, 7: -6.9640044391081135, 8: -6.0167862020443676, 9: -5.1905657083666723, 10: -4.9256643931851762, 11: -5.079152348890589, 12: -5.0799210761135738, 13: -5.0292615538654841, 14: -5.083087255571149, 15: -5.494583876467078, 16: -5.5837709865858427, 17: -5.4335038996723721, 18: -5.0889041544169116, 19: -4.8423624695283429, 20: -4.6007658436119705, 21: -4.367856885123004, 22: -4.1030448029116835, 23: -4.343304577735327, 24: -4.5759298983996164, 25: -4.7763685395053637, 26: -5.2334173255192322, 27: -6.3822790516825103, 28: -7.7986205533568791, 29: -9.1190328167449461, 30: -9.737602185289802, 31: -8.9635712549303914, 32: -7.1057748938102243, 33: -5.7948602223252461, 34: -5.2507121706388151, 35: -4.8967430748282537, 36: -4.5233544390014542, 37: -4.3406570733075149, 38: -3.717186047548513, 39: -3.2334956358146005, 40: -3.2297340331728863}\n"
     ]
    }
   ],
   "source": [
    "print(\"MACKEY GLASS\")\n",
    "data = np.loadtxt('MackeyGlass_t17.txt')\n",
    "MI=testing_gene_net(\"Dataset1/\",data,data)"
   ]
  },
  {
   "cell_type": "code",
   "execution_count": null,
   "metadata": {
    "collapsed": true
   },
   "outputs": [],
   "source": [
    "# NARMA TASK"
   ]
  },
  {
   "cell_type": "code",
   "execution_count": null,
   "metadata": {
    "collapsed": true
   },
   "outputs": [],
   "source": [
    "u_narma= [rand.uniform(0,0.5) for el in range(10501)]\n",
    "NARMA_result= NARMA_task(10,u_narma,initLen,len(data))\n",
    "NARMA_result[2000:4000]\n"
   ]
  },
  {
   "cell_type": "code",
   "execution_count": null,
   "metadata": {
    "collapsed": true
   },
   "outputs": [],
   "source": [
    "print(\"NARMA\")\n",
    "testing_gene_net(\"Dataset1/\",NARMA_result)"
   ]
  },
  {
   "cell_type": "code",
   "execution_count": null,
   "metadata": {
    "collapsed": true
   },
   "outputs": [],
   "source": [
    "# ROSSLER"
   ]
  },
  {
   "cell_type": "code",
   "execution_count": null,
   "metadata": {
    "collapsed": true
   },
   "outputs": [],
   "source": [
    "print(\"With derivatives\")\n",
    "MI_by_file, X_by_file, Y_by_file=testing_gene_net_derivative(\"Dataset1/\", a,b,c)"
   ]
  },
  {
   "cell_type": "code",
   "execution_count": 70,
   "metadata": {},
   "outputs": [
    {
     "name": "stdout",
     "output_type": "stream",
     "text": [
      "network_edge_list_DBTBS.csv\n",
      "13 NRMSE = 3.651467670898326\n",
      "13  FINISHED\n",
      "network_edge_list_YEASTRACT.csv\n",
      "289 NRMSE = 3.6436525736607464\n",
      "289  FINISHED\n",
      "network_edge_list_ENCODE.csv\n",
      "207 NRMSE = 3.5555716496474377\n",
      "207  FINISHED\n",
      "network_edge_list_EcoCyc.csv\n",
      "70 NRMSE = 3.6334934372911443\n",
      "70  FINISHED\n",
      "network_edge_list_modENCODE.csv\n",
      "486 NRMSE = 3.5030634556622418\n",
      "486  FINISHED\n"
     ]
    },
    {
     "data": {
      "image/png": "[encoded data removed]",
      "text/plain": [
       "<matplotlib.figure.Figure at 0x7fb452796b00>"
      ]
     },
     "metadata": {},
     "output_type": "display_data"
    },
    {
     "name": "stdout",
     "output_type": "stream",
     "text": [
      "network_edge_list_DBTBS.csv\n",
      "13 NRMSE = 3.9141454665322244\n",
      "13  FINISHED\n",
      "network_edge_list_YEASTRACT.csv\n",
      "289 NRMSE = 3.847140409948408\n",
      "289  FINISHED\n",
      "network_edge_list_ENCODE.csv\n",
      "207 NRMSE = 3.8195944170899883\n",
      "207  FINISHED\n",
      "network_edge_list_EcoCyc.csv\n",
      "70 NRMSE = 3.9463014834417494\n",
      "70  FINISHED\n",
      "network_edge_list_modENCODE.csv\n",
      "486 NRMSE = 3.778276492258818\n",
      "486  FINISHED\n"
     ]
    },
    {
     "data": {
      "image/png": "[encoded data removed]",
      "text/plain": [
       "<matplotlib.figure.Figure at 0x7fb45219bb38>"
      ]
     },
     "metadata": {},
     "output_type": "display_data"
    }
   ],
   "source": [
    "for n in [18,20]:\n",
    "    MI_by_file, X_by_file, Y_by_file=testing_gene_net_derivative(\"Dataset1/\", a,b,c,n)\n",
    "    title(\"n=\"+str(n))\n",
    "    plot_MI_by_file(MI_by_file)"
   ]
  },
  {
   "cell_type": "code",
   "execution_count": null,
   "metadata": {
    "collapsed": true
   },
   "outputs": [],
   "source": []
  }
 ],
 "metadata": {
  "kernelspec": {
   "display_name": "Python 3",
   "language": "python",
   "name": "python3"
  },
  "language_info": {
   "codemirror_mode": {
    "name": "ipython",
    "version": 3
   },
   "file_extension": ".py",
   "mimetype": "text/x-python",
   "name": "python",
   "nbconvert_exporter": "python",
   "pygments_lexer": "ipython3",
   "version": "3.6.3"
  }
 },
 "nbformat": 4,
 "nbformat_minor": 2
}
